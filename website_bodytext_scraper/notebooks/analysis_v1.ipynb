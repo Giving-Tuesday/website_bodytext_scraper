{
 "cells": [
  {
   "cell_type": "code",
   "execution_count": 70,
   "metadata": {},
   "outputs": [],
   "source": [
    "import pandas as pd\n",
    "import numpy as np\n",
    "import pprint"
   ]
  },
  {
   "cell_type": "code",
   "execution_count": 27,
   "metadata": {},
   "outputs": [],
   "source": [
    "path = '/Users/britt/repos/website_bodytext_scraper/website_bodytext_scraper/dev_exports/analysis_input.csv'\n",
    "df = pd.read_csv(path)[['url', 'donation_page', 'stripe_code_detected']].replace({'Yes': True, 'No': False})"
   ]
  },
  {
   "cell_type": "code",
   "execution_count": 74,
   "metadata": {},
   "outputs": [],
   "source": [
    "def calculate_metrics(df):\n",
    "    ''' \n",
    "    Produces metrics for scraper results. DF must contain:\n",
    "        - url: No nulls\n",
    "        - donation_page: Str OR None\n",
    "        - stripe_code_detected: Bool OR None\n",
    "    \n",
    "    '''\n",
    "    total = df.shape[0]\n",
    "    donation_page_found = df[df['donation_page'].notna()]['donation_page'].count()\n",
    "    stripe_detected = df[df['stripe_code_detected'] == True]['stripe_code_detected'].count()\n",
    "\n",
    "    perc_donation_of_total = donation_page_found / total * 100\n",
    "    perc_strip_of_total = stripe_detected / total * 100\n",
    "    perc_stripe_of_donation =  stripe_detected / donation_page_found * 100\n",
    "\n",
    "    pprint.pp({\n",
    "    'Percentage of URLs containing donation pages': round(perc_donation_of_total),\n",
    "    'Percentage of URLs containing Stripe code': round(perc_strip_of_total),\n",
    "    'Percentage of donation pages containing Stripe code': round(perc_stripe_of_donation)\n",
    "    })"
   ]
  },
  {
   "cell_type": "code",
   "execution_count": 75,
   "metadata": {},
   "outputs": [
    {
     "name": "stdout",
     "output_type": "stream",
     "text": [
      "{'Percentage of URLs containing donation pages': 50,\n",
      " 'Percentage of URLs containing Stripe code': 10,\n",
      " 'Percentage of donation pages containing Stripe code': 19}\n"
     ]
    }
   ],
   "source": [
    "calculate_metrics(df)"
   ]
  },
  {
   "cell_type": "code",
   "execution_count": 78,
   "metadata": {},
   "outputs": [
    {
     "data": {
      "text/plain": [
       "['https://www.abcap.net/donate.html',\n",
       " 'https://abcinc.org/donate/',\n",
       " 'https://www.paypal.com/paypalme/LifeCenterVenangoCo',\n",
       " 'https://www.abetterinternet.org/donate/',\n",
       " 'https://secure.qgiv.com/for/4adfu8',\n",
       " 'https://able-inc.org/donate/',\n",
       " 'https://secure.everyaction.com/7NqPPSxbgkWuJaBjNSV8PQ2',\n",
       " 'https://aboutcare.org/donations/',\n",
       " 'https://acapnj.org/give/',\n",
       " 'https://www.paypal.com/donate/?hosted_button_id=D466PX9JA63DW',\n",
       " 'https://acc-ef.org/foundation/donate/donate-now.html',\n",
       " 'https://www.access-psychology.org/donate/',\n",
       " 'https://www.paypal.com/donate?hosted_button_id=ZEZYGDYKVQ64G',\n",
       " 'https://secure.anedot.com/michigan-center-of-accountability-for-republicans/donate',\n",
       " 'https://secure.lglforms.com/form_engine/s/dSiQp1WQBE6HaviNjjVzMg',\n",
       " 'https://donorbox.org/american-council-of-engineering-companies-of-arizona-pac?utm_medium=qrcode&utm_source=qrcode',\n",
       " 'https://secure.anedot.com/michigan-center-of-accountability-for-republicans/donate',\n",
       " 'https://aciint.org/giving/online-giving/',\n",
       " 'https://acornclinic.org/donate/',\n",
       " 'https://acpmp.org/get-involved/donate/',\n",
       " 'https://www.paypal.com/donate/?cmd=_s-xclick&hosted_button_id=LLYGMECLBHDYE&source=url&ssrt=1727721996964']"
      ]
     },
     "execution_count": 78,
     "metadata": {},
     "output_type": "execute_result"
    }
   ],
   "source": [
    "df[df['donation_page'].notna()]['donation_page'].to_list()"
   ]
  },
  {
   "cell_type": "markdown",
   "metadata": {},
   "source": [
    "Scraper run"
   ]
  },
  {
   "cell_type": "code",
   "execution_count": 136,
   "metadata": {},
   "outputs": [],
   "source": [
    "scraper_path = '/Users/britt/repos/website_bodytext_scraper/website_bodytext_scraper/dev_exports/stripe_2024-10-03T19-23-18+00-00.csv'\n",
    "df_scrape = pd.read_csv(scraper_path)"
   ]
  },
  {
   "cell_type": "code",
   "execution_count": 137,
   "metadata": {},
   "outputs": [
    {
     "data": {
      "text/plain": [
       "Index(['url', 'success', 'stripe_detected', 'stripe_code', 'error_code'], dtype='object')"
      ]
     },
     "execution_count": 137,
     "metadata": {},
     "output_type": "execute_result"
    }
   ],
   "source": [
    "df_scrape.columns"
   ]
  },
  {
   "cell_type": "code",
   "execution_count": 138,
   "metadata": {},
   "outputs": [
    {
     "data": {
      "text/plain": [
       "21"
      ]
     },
     "execution_count": 138,
     "metadata": {},
     "output_type": "execute_result"
    }
   ],
   "source": [
    "df_scrape.shape[0]"
   ]
  },
  {
   "cell_type": "code",
   "execution_count": 139,
   "metadata": {},
   "outputs": [
    {
     "data": {
      "text/plain": [
       "17"
      ]
     },
     "execution_count": 139,
     "metadata": {},
     "output_type": "execute_result"
    }
   ],
   "source": [
    "df_scrape[df_scrape['success'] == True]['success'].count()"
   ]
  },
  {
   "cell_type": "code",
   "execution_count": 140,
   "metadata": {},
   "outputs": [
    {
     "data": {
      "text/plain": [
       "1"
      ]
     },
     "execution_count": 140,
     "metadata": {},
     "output_type": "execute_result"
    }
   ],
   "source": [
    "df_scrape[df_scrape['stripe_detected'] == True]['stripe_detected'].count()"
   ]
  },
  {
   "cell_type": "code",
   "execution_count": 141,
   "metadata": {},
   "outputs": [
    {
     "data": {
      "text/plain": [
       "1    https://abcinc.org/donate/\n",
       "Name: url, dtype: object"
      ]
     },
     "execution_count": 141,
     "metadata": {},
     "output_type": "execute_result"
    }
   ],
   "source": [
    "df_scrape[df_scrape['stripe_detected'] == True]['url']"
   ]
  },
  {
   "cell_type": "code",
   "execution_count": 132,
   "metadata": {},
   "outputs": [
    {
     "name": "stdout",
     "output_type": "stream",
     "text": [
      "{'Percentage of donation pages found': 81,\n",
      " 'Percentage of all attempted donation pages containing Stripe code': 5,\n",
      " 'Percentage of found donation pages containing Stripe code': 6,\n",
      " 'Errors': {nan: [],\n",
      "            '<twisted.python.failure.Failure scrapy.spidermiddlewares.httperror.HttpError: Ignoring non-200 response>': ['https://secure.anedot.com/michigan-center-of-accountability-for-republicans/donate',\n",
      "                                                                                                                         'https://acpmp.org/get-involved/donate/'],\n",
      "            '<twisted.python.failure.Failure scrapy.exceptions.IgnoreRequest: Forbidden by robots.txt>': ['https://www.paypal.com/donate/?cmd=_s-xclick&hosted_button_id=LLYGMECLBHDYE&source=url&ssrt=1727721996964'],\n",
      "            '<twisted.python.failure.Failure twisted.internet.error.TCPTimedOutError: TCP connection timed out: 60: Operation timed out.>': ['https://www.abgf.org/donate']}}\n"
     ]
    }
   ],
   "source": [
    "def calculate_scrape_metrics(df_scrape):\n",
    "    ''' \n",
    "    Produces metrics for scraper results. DF must contain:\n",
    "        - url: No nulls\n",
    "        - donation_page: Str OR None\n",
    "        - stripe_code_detected: Bool OR None\n",
    "    \n",
    "    '''\n",
    "    total = df_scrape.shape[0]\n",
    "    success = df_scrape[df_scrape['success'] == True]['success'].count()\n",
    "    stripe_detected = df_scrape[df_scrape['stripe_detected'] == True]['stripe_detected'].count()\n",
    "\n",
    "    # Calculate percentages\n",
    "    perc_donation_of_total = success / total * 100\n",
    "    perc_stripe_of_total = stripe_detected / total * 100\n",
    "    perc_stripe_of_donation =  stripe_detected / success * 100\n",
    "\n",
    "    # Summarize errors\n",
    "    error_codes = df_scrape['error_code'].unique().tolist()\n",
    "    error_obj = {}\n",
    "    for code in error_codes:\n",
    "        urls = df_scrape[df_scrape['error_code'] == code]['url'].to_list()\n",
    "        error_obj[code] = urls\n",
    "\n",
    "    pprint.pp({\n",
    "        'Percentage of donation pages found': round(perc_donation_of_total),\n",
    "        'Percentage of all attempted donation pages containing Stripe code': round(perc_stripe_of_total),\n",
    "        'Percentage of found donation pages containing Stripe code': round(perc_stripe_of_donation),\n",
    "        'Errors': error_obj\n",
    "    })\n",
    "\n",
    "calculate_scrape_metrics(df_scrape)"
   ]
  },
  {
   "cell_type": "markdown",
   "metadata": {},
   "source": [
    "Attempt #2: Adding user agent"
   ]
  },
  {
   "cell_type": "code",
   "execution_count": 133,
   "metadata": {},
   "outputs": [],
   "source": [
    "att_2 = '/Users/britt/repos/website_bodytext_scraper/website_bodytext_scraper/dev_exports/stripe_2024-10-08T18-35-30+00-00.csv'\n",
    "df_scrape_2 = pd.read_csv(att_2)"
   ]
  },
  {
   "cell_type": "code",
   "execution_count": 134,
   "metadata": {},
   "outputs": [
    {
     "name": "stdout",
     "output_type": "stream",
     "text": [
      "{'Percentage of donation pages found': 81,\n",
      " 'Percentage of all attempted donation pages containing Stripe code': 0,\n",
      " 'Percentage of found donation pages containing Stripe code': 0,\n",
      " 'Errors': {nan: [],\n",
      "            '<twisted.python.failure.Failure scrapy.spidermiddlewares.httperror.HttpError: Ignoring non-200 response>': ['https://secure.anedot.com/michigan-center-of-accountability-for-republicans/donate',\n",
      "                                                                                                                         'https://acpmp.org/get-involved/donate/'],\n",
      "            '<twisted.python.failure.Failure scrapy.exceptions.IgnoreRequest: Forbidden by robots.txt>': ['https://www.paypal.com/donate/?cmd=_s-xclick&hosted_button_id=LLYGMECLBHDYE&source=url&ssrt=1727721996964'],\n",
      "            '<twisted.python.failure.Failure twisted.internet.error.TCPTimedOutError: TCP connection timed out: 60: Operation timed out.>': ['https://www.abgf.org/donate']}}\n"
     ]
    }
   ],
   "source": [
    "calculate_scrape_metrics(df_scrape_2)"
   ]
  },
  {
   "cell_type": "code",
   "execution_count": null,
   "metadata": {},
   "outputs": [],
   "source": []
  }
 ],
 "metadata": {
  "kernelspec": {
   "display_name": "scraper2",
   "language": "python",
   "name": "python3"
  },
  "language_info": {
   "codemirror_mode": {
    "name": "ipython",
    "version": 3
   },
   "file_extension": ".py",
   "mimetype": "text/x-python",
   "name": "python",
   "nbconvert_exporter": "python",
   "pygments_lexer": "ipython3",
   "version": "3.10.14"
  }
 },
 "nbformat": 4,
 "nbformat_minor": 2
}
