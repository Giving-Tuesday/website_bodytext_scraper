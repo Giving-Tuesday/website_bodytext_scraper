{
 "cells": [
  {
   "cell_type": "code",
   "execution_count": 1,
   "metadata": {},
   "outputs": [],
   "source": [
    "from urllib.parse import urlparse\n",
    "from collections import Counter"
   ]
  },
  {
   "cell_type": "code",
   "execution_count": 2,
   "metadata": {},
   "outputs": [],
   "source": [
    "sample_urls = [\n",
    "    'https//www.facebook.com/topsailkiwanis',\n",
    "    'HTTP://EARLY-MUSIC.ORG',\n",
    "    'http://www.hsc.org/home-page.html',\n",
    "    'www.plymouthvikings.com',\n",
    "    'WWW.THEOLYMPIAFREECLINIC.COM',\n",
    "    'www.a-lista.org',\n",
    "    'www.danceteachersclub.org',\n",
    "    'www.world-of-difference.org',\n",
    "    'FISHINGHERITAGECENTER.ORG'\n",
    "]"
   ]
  },
  {
   "cell_type": "code",
   "execution_count": 3,
   "metadata": {},
   "outputs": [],
   "source": [
    "def extract_domain(url):\n",
    "    parsed_url = urlparse(url)\n",
    "    return parsed_url.netloc\n",
    "\n"
   ]
  },
  {
   "cell_type": "code",
   "execution_count": 4,
   "metadata": {},
   "outputs": [],
   "source": [
    "def find_duplicate_domains(urls):\n",
    "    # Extract domains\n",
    "    domains = [extract_domain(url) for url in urls]\n",
    "    \n",
    "    # Count occurrences of each domain\n",
    "    domain_counts = Counter(domains)\n",
    "    \n",
    "    # Find domains that appear more than once\n",
    "    duplicate_domains = [(domain, count) for domain, count in domain_counts.items() if count > 1]\n",
    "    \n",
    "    return duplicate_domains"
   ]
  },
  {
   "cell_type": "code",
   "execution_count": null,
   "metadata": {},
   "outputs": [],
   "source": [
    "duplicate_domains = find_duplicate_domains(urls)\n",
    "print(duplicate_domains)"
   ]
  }
 ],
 "metadata": {
  "kernelspec": {
   "display_name": ".venv",
   "language": "python",
   "name": "python3"
  },
  "language_info": {
   "codemirror_mode": {
    "name": "ipython",
    "version": 3
   },
   "file_extension": ".py",
   "mimetype": "text/x-python",
   "name": "python",
   "nbconvert_exporter": "python",
   "pygments_lexer": "ipython3",
   "version": "3.9.15"
  },
  "orig_nbformat": 4
 },
 "nbformat": 4,
 "nbformat_minor": 2
}
